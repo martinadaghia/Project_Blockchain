{
 "cells": [
  {
   "cell_type": "markdown",
   "metadata": {},
   "source": [
    "# Variazione prezzo NFT\n",
    "\n",
    "#### Importazione librerie"
   ]
  },
  {
   "cell_type": "code",
   "execution_count": 44,
   "metadata": {},
   "outputs": [],
   "source": [
    "import pandas as pd\n",
    "import matplotlib.pyplot as plt\n",
    "import os"
   ]
  },
  {
   "cell_type": "markdown",
   "metadata": {},
   "source": [
    "### nft_trades dataset import"
   ]
  },
  {
   "cell_type": "code",
   "execution_count": 45,
   "metadata": {},
   "outputs": [
    {
     "name": "stdout",
     "output_type": "stream",
     "text": [
      "<class 'pandas.core.frame.DataFrame'>\n",
      "RangeIndex: 507678 entries, 0 to 507677\n",
      "Data columns (total 12 columns):\n",
      " #   Column            Non-Null Count   Dtype         \n",
      "---  ------            --------------   -----         \n",
      " 0   date              507678 non-null  datetime64[ns]\n",
      " 1   contract_address  507678 non-null  object        \n",
      " 2   transaction_hash  507678 non-null  object        \n",
      " 3   num_items         507678 non-null  int64         \n",
      " 4   seller            507678 non-null  object        \n",
      " 5   buyer             507678 non-null  object        \n",
      " 6   token_id          507678 non-null  object        \n",
      " 7   avg_price         507678 non-null  float64       \n",
      " 8   currency          507678 non-null  object        \n",
      " 9   currency_address  31601 non-null   object        \n",
      " 10  usd_amount        507678 non-null  float64       \n",
      " 11  platform          507678 non-null  object        \n",
      "dtypes: datetime64[ns](1), float64(2), int64(1), object(8)\n",
      "memory usage: 46.5+ MB\n"
     ]
    },
    {
     "data": {
      "text/plain": [
       "(507678, 12)"
      ]
     },
     "execution_count": 45,
     "metadata": {},
     "output_type": "execute_result"
    }
   ],
   "source": [
    "# Definire i tipi di dati per ogni colonna\n",
    "dtype = {\n",
    "    'contract_address': str,\n",
    "    'transaction_hash': str,\n",
    "    'num_items': int,\n",
    "    'seller': str,\n",
    "    'buyer': str,\n",
    "    'token_id': str,\n",
    "    'avg_price': float,\n",
    "    'currency': str,\n",
    "    'currency_address': str,\n",
    "    'usd_amount': float,\n",
    "    'platform': str\n",
    "}\n",
    "\n",
    "# Leggere il file CSV\n",
    "nft_trades_ds = pd.read_csv(\"../datasets/nfts/nft_trades.csv\", chunksize=100000, dtype=dtype, lineterminator='\\n', low_memory=False, parse_dates=['date'])\n",
    "nft_trades_df = pd.concat(nft_trades_ds)\n",
    "\n",
    "nft_trades_df.info()\n",
    "nft_trades_df.shape"
   ]
  },
  {
   "cell_type": "code",
   "execution_count": 46,
   "metadata": {},
   "outputs": [
    {
     "data": {
      "text/plain": [
       "(507678, 12)"
      ]
     },
     "execution_count": 46,
     "metadata": {},
     "output_type": "execute_result"
    }
   ],
   "source": [
    "# we assiacure that there are no cells with null values in the date and text columns\n",
    "nft_trades_df.dropna(axis=0 ,subset=['date', 'token_id', 'avg_price', 'transaction_hash', 'seller', 'buyer', 'currency', 'platform'],inplace = True)\n",
    "nft_trades_df.reset_index(drop= True,inplace=True)\n",
    "nft_trades_df.shape"
   ]
  },
  {
   "cell_type": "code",
   "execution_count": 47,
   "metadata": {},
   "outputs": [
    {
     "name": "stdout",
     "output_type": "stream",
     "text": [
      "Null values in each column:\n",
      " date                     0\n",
      "contract_address         0\n",
      "transaction_hash         0\n",
      "num_items                0\n",
      "seller                   0\n",
      "buyer                    0\n",
      "token_id                 0\n",
      "avg_price                0\n",
      "currency                 0\n",
      "currency_address    476077\n",
      "usd_amount               0\n",
      "platform                 0\n",
      "dtype: int64\n",
      "Number of duplicate rows: 0\n"
     ]
    }
   ],
   "source": [
    "# Check for null values\n",
    "null_values = nft_trades_df.isnull().sum()\n",
    "print(\"Null values in each column:\\n\", null_values)\n",
    "\n",
    "# Check for duplicates\n",
    "duplicate_rows = nft_trades_df.duplicated().sum()\n",
    "print(\"Number of duplicate rows:\", duplicate_rows)"
   ]
  },
  {
   "cell_type": "code",
   "execution_count": 48,
   "metadata": {},
   "outputs": [
    {
     "data": {
      "text/plain": [
       "(507678, 12)"
      ]
     },
     "execution_count": 48,
     "metadata": {},
     "output_type": "execute_result"
    }
   ],
   "source": [
    "# Data cleaning \n",
    "nft_trades_df.drop_duplicates(inplace = True)\n",
    "nft_trades_df.reset_index(drop=True,inplace=True)\n",
    "nft_trades_df.shape"
   ]
  },
  {
   "cell_type": "code",
   "execution_count": 49,
   "metadata": {},
   "outputs": [],
   "source": [
    "# Setting dataset column types\n",
    "#nft_trades_df = nft_trades_df.convert_dtypes()\n",
    "#nft_trades_df.dtypes"
   ]
  },
  {
   "cell_type": "code",
   "execution_count": 50,
   "metadata": {},
   "outputs": [],
   "source": [
    "# Convertire la colonna 'date' in formato datetime\n",
    "nft_trades_df['date'] = pd.to_datetime(nft_trades_df['date'])\n",
    "\n",
    "# Selezionare le righe con data successiva al 15 novembre 2020\n",
    "new_nft_trades = nft_trades_df[nft_trades_df['date'] > '2020-11-15']\n",
    "\n",
    "# Ordinare il DataFrame per token_id e data\n",
    "filtrate_nft_trades_sorted = new_nft_trades.sort_values(by=['token_id', 'date'])"
   ]
  },
  {
   "cell_type": "markdown",
   "metadata": {},
   "source": [
    "## Calcolo e identificazione delle variazioni di prezzo"
   ]
  },
  {
   "cell_type": "code",
   "execution_count": 51,
   "metadata": {},
   "outputs": [],
   "source": [
    "#print(filtrate_nft_trades_sorted.groupby('token_id').size())"
   ]
  },
  {
   "cell_type": "code",
   "execution_count": 52,
   "metadata": {},
   "outputs": [],
   "source": [
    "# Calcolare le variazioni di prezzo per ogni token_id\n",
    "filtrate_nft_trades_sorted['price_change'] = filtrate_nft_trades_sorted.groupby('token_id')['avg_price'].diff()\n",
    "\n",
    "# Identificare le variazioni positive e negative consecutive\n",
    "filtrate_nft_trades_sorted['price_trend'] = (\n",
    "    filtrate_nft_trades_sorted['price_change']\n",
    "    .apply(lambda x: 'positivo' if x > 0 else ('negativo' if x < 0 else 'nessuna variazione'))\n",
    ")\n",
    "\n",
    "# Raggruppare le variazioni consecutive\n",
    "filtrate_nft_trades_sorted['trend_change'] = (\n",
    "    (filtrate_nft_trades_sorted['price_trend'] != filtrate_nft_trades_sorted['price_trend'].shift())\n",
    "    .astype(int)\n",
    "    .cumsum()\n",
    ")"
   ]
  },
  {
   "cell_type": "markdown",
   "metadata": {},
   "source": [
    "## Aggregazione e Filtraggio delle Variazioni di Prezzo"
   ]
  },
  {
   "cell_type": "code",
   "execution_count": 53,
   "metadata": {},
   "outputs": [],
   "source": [
    "# Raggruppare per token_id e trend_change per trovare le date di inizio e fine delle variazioni\n",
    "grouped = filtrate_nft_trades_sorted.groupby(['token_id', 'trend_change', 'price_trend']).agg(\n",
    "    data_inizio=('date', 'first'),\n",
    "    data_fine=('date', 'last'),\n",
    "    prezzo_inizio=('avg_price', 'first'),\n",
    "    prezzo_fine=('avg_price', 'last')\n",
    ").reset_index()\n",
    "\n",
    "# Filtrare casi con prezzo_inizio o prezzo_fine uguali a 0\n",
    "grouped = grouped[(grouped['prezzo_inizio'] != 0) & (grouped['prezzo_fine'] != 0)]\n",
    "\n",
    "# Calcolare la percentuale di variazione del prezzo, ignorando i casi con nessuna variazione di prezzo\n",
    "grouped['percentuale_variazione'] = grouped.apply(\n",
    "    lambda row: (row['prezzo_fine'] - row['prezzo_inizio']) / row['prezzo_inizio'] * 100\n",
    "    if row['prezzo_inizio'] != row['prezzo_fine'] else 0, axis=1\n",
    ")\n",
    "\n",
    "# Filtrare solo le variazioni di prezzo, escludendo \"nessuna variazione\"\n",
    "price_changes = grouped[grouped['price_trend'] != 'nessuna variazione']\n"
   ]
  },
  {
   "cell_type": "markdown",
   "metadata": {},
   "source": [
    "## Calcolo dei Prezzi Medi e Filtraggio delle Variazioni Significative"
   ]
  },
  {
   "cell_type": "code",
   "execution_count": 54,
   "metadata": {},
   "outputs": [],
   "source": [
    "# Calcolare il prezzo medio per ogni token_id\n",
    "average_prices = filtrate_nft_trades_sorted.groupby('token_id')['avg_price'].mean().reset_index()\n",
    "average_prices.rename(columns={'avg_price': 'avg_price_avg'}, inplace=True)\n",
    "\n",
    "# Unire il prezzo medio con il DataFrame delle variazioni di prezzo\n",
    "price_changes_with_avg = price_changes.merge(average_prices, on='token_id', how='left')\n",
    "\n",
    "# Selezionare le colonne desiderate\n",
    "result = price_changes_with_avg[['data_inizio', 'data_fine', 'token_id', 'price_trend', 'trend_change', 'prezzo_inizio', 'prezzo_fine', 'avg_price_avg', 'percentuale_variazione']]\n",
    "\n",
    "# Definire la soglia per la percentuale di variazione\n",
    "threshold = 90  # Ad esempio, il 150%\n",
    "\n",
    "# Filtrare i risultati che superano la soglia in positivo o negativo\n",
    "result_filtered = result[(result['percentuale_variazione'] > threshold) | (result['percentuale_variazione'] < -threshold)]\n"
   ]
  },
  {
   "cell_type": "markdown",
   "metadata": {},
   "source": [
    "## Selezione dei Top 10 Token con Variazioni Positive e Negative"
   ]
  },
  {
   "cell_type": "code",
   "execution_count": 55,
   "metadata": {},
   "outputs": [],
   "source": [
    "# Selezionare i top 10 token con variazioni positive e negative\n",
    "top_nft_positivi = result_filtered.nlargest(10, 'percentuale_variazione')\n",
    "top_nft_negativi = result_filtered.nsmallest(10, 'percentuale_variazione')\n",
    "\n",
    "# Unire i due DataFrame\n",
    "top_nft_tokens_uniti = pd.concat([top_nft_positivi, top_nft_negativi])\n"
   ]
  },
  {
   "cell_type": "markdown",
   "metadata": {},
   "source": [
    "## Visualizzazione delle Variazioni di Prezzo"
   ]
  },
  {
   "cell_type": "code",
   "execution_count": 56,
   "metadata": {},
   "outputs": [
    {
     "data": {
      "image/png": "[encoded data removed]",
      "text/plain": [
       "<Figure size 1300x800 with 1 Axes>"
      ]
     },
     "metadata": {},
     "output_type": "display_data"
    }
   ],
   "source": [
    "# Impostare la dimensione della figura\n",
    "plt.figure(figsize=(13, 8))\n",
    "\n",
    "# Impostare i limiti dell'asse y\n",
    "plt.ylim(-50000, 900000)\n",
    "\n",
    "# Iterare sui token e tracciare le variazioni di prezzo\n",
    "for _, row in top_nft_tokens_uniti.iterrows():\n",
    "    color = 'green' if row['percentuale_variazione'] > 0 else 'red'\n",
    "    plt.plot([row['data_inizio'], row['data_fine']], [row['prezzo_inizio'], row['prezzo_fine']], color=color, marker='o')\n",
    "\n",
    "# Aggiungere etichette e titolo\n",
    "plt.xlabel('Data')\n",
    "plt.ylabel('Prezzo')\n",
    "plt.title('Variazione del Prezzo per i Top 10 Token con Variazioni Positive e Negative')\n",
    "plt.grid(True)\n",
    "\n",
    "# Aggiungere una legenda personalizzata\n",
    "plt.plot([], [], 'go', label='Positivo')\n",
    "plt.plot([], [], 'ro', label='Negativo')\n",
    "plt.legend(loc='best')\n",
    "\n",
    "# Mostrare il grafico\n",
    "plt.show()"
   ]
  },
  {
   "cell_type": "markdown",
   "metadata": {},
   "source": [
    "## Analisi delle Variazioni per Unit Time"
   ]
  },
  {
   "cell_type": "code",
   "execution_count": 57,
   "metadata": {},
   "outputs": [
    {
     "name": "stdout",
     "output_type": "stream",
     "text": [
      "               data_inizio           data_fine token_id price_trend  \\\n",
      "90408  2021-08-15 07:05:16 2021-08-30 16:33:32     6563    positivo   \n",
      "55849  2021-11-05 09:46:35 2021-11-05 18:42:28     4037    positivo   \n",
      "8180   2021-02-25 14:23:29 2021-02-26 02:48:36    12247    positivo   \n",
      "121339 2021-05-30 18:06:57 2021-06-01 06:39:14     8898    positivo   \n",
      "132173 2021-08-25 04:45:19 2021-08-26 19:24:15     9728    positivo   \n",
      "\n",
      "        trend_change  prezzo_inizio  prezzo_fine  avg_price_avg  \\\n",
      "90408         152777          0.130     888888.0   37043.645984   \n",
      "55849         100401          1.400     150000.0    5360.899107   \n",
      "8180           17188          3.000     430000.0   63690.436667   \n",
      "121339        197896          0.640      64842.0    2176.416933   \n",
      "132173        214046          0.006        269.0      11.790029   \n",
      "\n",
      "        percentuale_variazione     durata  variazione_per_sec  \n",
      "90408             6.837599e+08  1330096.0          514.068082  \n",
      "55849             1.071419e+07    32153.0          333.225071  \n",
      "8180              1.433323e+07    44707.0          320.603783  \n",
      "121339            1.013146e+07   131537.0           77.023670  \n",
      "132173            4.483233e+06   139136.0           32.221951  \n",
      "               data_inizio           data_fine token_id price_trend  \\\n",
      "122992 2021-10-27 23:46:06 2021-11-04 19:14:53     9032    negativo   \n",
      "44306  2021-12-01 20:23:47 2021-12-19 19:48:02     3123    negativo   \n",
      "\n",
      "        trend_change  prezzo_inizio  prezzo_fine  avg_price_avg  \\\n",
      "122992        200328           12.0        0.001       3.097500   \n",
      "44306          82641         2400.0        0.020     302.754346   \n",
      "\n",
      "        percentuale_variazione     durata  variazione_per_sec  \n",
      "122992              -99.991667   674927.0           -0.000148  \n",
      "44306               -99.999167  1553055.0           -0.000064  \n"
     ]
    }
   ],
   "source": [
    "# Calcoliamo la durata in secondi per le variazioni positive\n",
    "top_nft_positivi['durata'] = (top_nft_positivi['data_fine'] - top_nft_positivi['data_inizio']).dt.total_seconds()\n",
    "\n",
    "# Calcoliamo la variazione percentuale per unità di tempo\n",
    "top_nft_positivi['variazione_per_sec'] = top_nft_positivi['percentuale_variazione'] / top_nft_positivi['durata']\n",
    "\n",
    "# Ordiniamo i risultati per variazione_per_sec in ordine decrescente\n",
    "top_nft_positivi = top_nft_positivi.sort_values(by='variazione_per_sec', ascending=False)\n",
    "\n",
    "# Visualizziamo i risultati\n",
    "top_5_pos = top_nft_positivi.head(5)\n",
    "print(top_5_pos)\n",
    "\n",
    "# Calcoliamo la durata in secondi per le variazioni negative\n",
    "top_nft_negativi['durata'] = (top_nft_negativi['data_fine'] - top_nft_negativi['data_inizio']).dt.total_seconds()\n",
    "\n",
    "# Calcoliamo la variazione percentuale per unità di tempo\n",
    "top_nft_negativi['variazione_per_sec'] = top_nft_negativi['percentuale_variazione'] / top_nft_negativi['durata']\n",
    "\n",
    "# Ordiniamo i risultati per variazione_per_sec in ordine crescente\n",
    "top_nft_negativi = top_nft_negativi.sort_values(by='variazione_per_sec', ascending=True)\n",
    "\n",
    "# Visualizziamo i risultati\n",
    "top_5_neg = top_nft_negativi.head(2)\n",
    "print(top_5_neg)"
   ]
  },
  {
   "cell_type": "markdown",
   "metadata": {},
   "source": [
    "## Salvataggio dei Risultati in File CSV"
   ]
  },
  {
   "cell_type": "code",
   "execution_count": 15,
   "metadata": {},
   "outputs": [],
   "source": [
    "# Percorso della cartella \"dataframes\"\n",
    "dataframes_path = '../dataframes'\n",
    "\n",
    "# Salvataggio del dataframe top_10_positivi e top_10_negativi in un file CSV nella cartella 'dataframes'\n",
    "top_nft_negativi.to_csv(os.path.join(dataframes_path, 'top_nft_negativi_df.csv'), index=False)\n",
    "top_nft_positivi.to_csv(os.path.join(dataframes_path, 'top_nft_positivi_df.csv'), index=False)"
   ]
  }
 ],
 "metadata": {
  "kernelspec": {
   "display_name": "Python 3",
   "language": "python",
   "name": "python3"
  },
  "language_info": {
   "codemirror_mode": {
    "name": "ipython",
    "version": 3
   },
   "file_extension": ".py",
   "mimetype": "text/x-python",
   "name": "python",
   "nbconvert_exporter": "python",
   "pygments_lexer": "ipython3",
   "version": "3.12.1"
  }
 },
 "nbformat": 4,
 "nbformat_minor": 2
}
