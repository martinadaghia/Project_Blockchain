{
 "cells": [
  {
   "cell_type": "markdown",
   "metadata": {},
   "source": [
    "## CALCOLO OPINION LEADER"
   ]
  },
  {
   "cell_type": "code",
   "execution_count": 12,
   "metadata": {},
   "outputs": [],
   "source": [
    "import pandas as pd\n",
    "from sklearn.cluster import KMeans\n",
    "import matplotlib.pyplot as plt\n",
    "import seaborn as sns\n",
    "from sklearn.metrics import silhouette_score"
   ]
  },
  {
   "cell_type": "code",
   "execution_count": 13,
   "metadata": {},
   "outputs": [],
   "source": [
    "tweet_users = pd.read_csv(\"../datasets/twitter/twitter_users.csv\")\n",
    "tweet_collection = pd.read_csv(\"../datasets/twitter/twitter_tweet_collection.csv\")\n",
    "tweets_picco_0_neg_tid_9032 = pd.read_csv(\"../dataframes/tweets_filtrati_picco_0_negativo_token_9032.csv\")\n",
    "tweets_picco_1_tid_6563 = pd.read_csv(\"../dataframes/tweets_filtrati_picco_0_token_6563.csv\")\n",
    "tweets_picco_2_tid_4037= pd.read_csv(\"../dataframes/tweets_filtrati_picco_1_token_4037.csv\")\n",
    "tweets_picco_3_tid_12247 = pd.read_csv(\"../dataframes/tweets_filtrati_picco_2_token_12247.csv\")\n",
    "tweets_picco_4_tid_9728 = pd.read_csv(\"../dataframes/tweets_filtrati_picco_4_token_4704.csv\")\n",
    "tweets_picco_4_tid_8898 = pd.read_csv(\"../dataframes/tweets_filtrati_picco_3_token_8898.csv\")"
   ]
  },
  {
   "cell_type": "markdown",
   "metadata": {},
   "source": [
    "### Merge dei tweet e la descrizione degli autori di tali tweet per ogni picco"
   ]
  },
  {
   "cell_type": "code",
   "execution_count": 14,
   "metadata": {},
   "outputs": [],
   "source": [
    "merge_data_neg_0_description = pd.merge(tweets_picco_0_neg_tid_9032, tweet_users, left_on='author_id', right_on='user_id').drop(columns=['user_id'])\n",
    "merge_neg_9032 = pd.merge(merge_data_neg_0_description, tweet_collection, left_on='tweet_id', right_on='tweet_id')\n",
    "\n",
    "merge_data_0_description = pd.merge(tweets_picco_1_tid_6563, tweet_users, left_on='author_id', right_on='user_id').drop(columns=['user_id'])\n",
    "merge_6563 = pd.merge(merge_data_0_description, tweet_collection, left_on='tweet_id', right_on='tweet_id')\n",
    "\n",
    "merge_data_1_description = pd.merge(tweets_picco_2_tid_4037, tweet_users, left_on='author_id', right_on='user_id').drop(columns=['user_id'])\n",
    "merge_4037 = pd.merge(merge_data_1_description, tweet_collection, left_on='tweet_id', right_on='tweet_id')\n",
    "\n",
    "merge_data_2_description = pd.merge(tweets_picco_3_tid_12247, tweet_users, left_on='author_id', right_on='user_id').drop(columns=['user_id'])\n",
    "merge_12247 = pd.merge(merge_data_2_description, tweet_collection, left_on='tweet_id', right_on='tweet_id')\n",
    "\n",
    "merge_data_3_description = pd.merge(tweets_picco_4_tid_9728, tweet_users, left_on='author_id', right_on='user_id').drop(columns=['user_id'])\n",
    "merge_9728 = pd.merge(merge_data_3_description, tweet_collection, left_on='tweet_id', right_on='tweet_id')\n",
    "\n",
    "merge_data_4_description = pd.merge(tweets_picco_4_tid_8898, tweet_users, left_on='author_id', right_on='user_id').drop(columns=['user_id'])\n",
    "merge_8898 = pd.merge(merge_data_4_description, tweet_collection, left_on='tweet_id', right_on='tweet_id')"
   ]
  },
  {
   "cell_type": "markdown",
   "metadata": {},
   "source": [
    "# Token negativo 9032"
   ]
  },
  {
   "cell_type": "markdown",
   "metadata": {},
   "source": [
    "### GRAFO DELLA CLUSTERIZZAZIONE DELLA KMEANS (3) per token 9032"
   ]
  },
  {
   "cell_type": "markdown",
   "metadata": {},
   "source": [
    "Utilizzo il metodo della silhoutte per trovare qual'è il miglior k (ossia il miglior numero di cluster) per la riuscita della ricerca"
   ]
  },
  {
   "cell_type": "code",
   "execution_count": 15,
   "metadata": {},
   "outputs": [
    {
     "name": "stderr",
     "output_type": "stream",
     "text": [
      "/Library/Frameworks/Python.framework/Versions/3.12/lib/python3.12/site-packages/sklearn/cluster/_kmeans.py:1416: FutureWarning: The default value of `n_init` will change from 10 to 'auto' in 1.4. Set the value of `n_init` explicitly to suppress the warning\n",
      "  super()._check_params_vs_input(X, default_n_init=10)\n"
     ]
    },
    {
     "name": "stdout",
     "output_type": "stream",
     "text": [
      "For n_clusters = 2, the average silhouette_score is : 0.9934366165486519\n",
      "For n_clusters = 3, the average silhouette_score is : 0.983359390600878\n"
     ]
    },
    {
     "name": "stderr",
     "output_type": "stream",
     "text": [
      "/Library/Frameworks/Python.framework/Versions/3.12/lib/python3.12/site-packages/sklearn/cluster/_kmeans.py:1416: FutureWarning: The default value of `n_init` will change from 10 to 'auto' in 1.4. Set the value of `n_init` explicitly to suppress the warning\n",
      "  super()._check_params_vs_input(X, default_n_init=10)\n",
      "/Library/Frameworks/Python.framework/Versions/3.12/lib/python3.12/site-packages/sklearn/cluster/_kmeans.py:1416: FutureWarning: The default value of `n_init` will change from 10 to 'auto' in 1.4. Set the value of `n_init` explicitly to suppress the warning\n",
      "  super()._check_params_vs_input(X, default_n_init=10)\n"
     ]
    },
    {
     "name": "stdout",
     "output_type": "stream",
     "text": [
      "For n_clusters = 4, the average silhouette_score is : 0.979974796885924\n"
     ]
    },
    {
     "name": "stderr",
     "output_type": "stream",
     "text": [
      "/Library/Frameworks/Python.framework/Versions/3.12/lib/python3.12/site-packages/sklearn/cluster/_kmeans.py:1416: FutureWarning: The default value of `n_init` will change from 10 to 'auto' in 1.4. Set the value of `n_init` explicitly to suppress the warning\n",
      "  super()._check_params_vs_input(X, default_n_init=10)\n"
     ]
    },
    {
     "name": "stdout",
     "output_type": "stream",
     "text": [
      "\n",
      "********************************************************************\n",
      "\n",
      "Tweet nella classe 'Strong opinion leader':\n",
      "      retweet_count  like_count  quote_count  reply_count  \\\n",
      "16             5293       25737           96           30   \n",
      "1459           9156       51067           75          100   \n",
      "\n",
      "                author_id             tweet_id  \\\n",
      "16    1346168171187863553  1452425209655480323   \n",
      "1459   942461740041801733  1453065896923176961   \n",
      "\n",
      "                                                content  \\\n",
      "16    Some fox Childe doodles 🦊 https : //t.co/p7DWl...   \n",
      "1459           bestie doodles https : //t.co/PCDSs8PuXg   \n",
      "\n",
      "                                            description Sentiment collection  \n",
      "16    uhhh hi... i draw sometimes • 22 • she/her • p...   Neutral    doodles  \n",
      "1459  soup's on, baby 🇵🇸 | draws sometimes | works o...   Neutral    doodles  \n",
      "\n"
     ]
    }
   ],
   "source": [
    "# Seleziona le colonne rilevanti per il clustering\n",
    "X = merge_neg_9032[['retweet_count', 'like_count', 'quote_count', 'reply_count']]\n",
    "\n",
    "# Calcola i punteggi Silhouette per k che varia da 2 a 4\n",
    "silhouette_scores = []\n",
    "for k in range(2, 5):\n",
    "    kmeans = KMeans(n_clusters=k, random_state=0)\n",
    "    cluster_labels = kmeans.fit_predict(X)\n",
    "    silhouette_avg = silhouette_score(X, cluster_labels)\n",
    "    silhouette_scores.append(silhouette_avg)\n",
    "    print(f\"For n_clusters = {k}, the average silhouette_score is : {silhouette_avg}\")\n",
    "\n",
    "# Trova il valore di k che massimizza il punteggio di Silhouette\n",
    "best_k = silhouette_scores.index(max(silhouette_scores)) + 2  # Indice del massimo + 2 per ottenere il valore reale di k\n",
    "\n",
    "# Applica il metodo k-means con il miglior valore di k\n",
    "kmeans = KMeans(n_clusters=best_k, random_state=0)\n",
    "merge_neg_9032['cluster'] = kmeans.fit_predict(X)\n",
    "\n",
    "# Mappa i cluster a etichette personalizzate\n",
    "cluster_mapping = {0: 'Weak opinion leader', 1: 'Strong opinion leader'}  # Personalizza le etichette come desiderato\n",
    "merge_neg_9032['opinion_leader'] = merge_neg_9032['cluster'].map(cluster_mapping)\n",
    "\n",
    "#stampa opinion leader\n",
    "print(\"\\n********************************************************************\\n\")\n",
    "print(\"Tweet nella classe 'Strong opinion leader':\")\n",
    "print(merge_neg_9032[merge_neg_9032['opinion_leader'] == 'Strong opinion leader'][['retweet_count', 'like_count', 'quote_count', 'reply_count', 'author_id', 'tweet_id', 'content', 'description', 'Sentiment', 'collection']])\n",
    "print()"
   ]
  },
  {
   "cell_type": "markdown",
   "metadata": {},
   "source": [
    "Troviamo quindi che k=2 ha il valore di sihlouette migliore per la clusterizzazione di questo dataframe, per questo utilizziamo solo due classi (top OL e weak OL)"
   ]
  },
  {
   "cell_type": "markdown",
   "metadata": {},
   "source": [
    "### GRAFICO K-MEANS per token 9032"
   ]
  },
  {
   "cell_type": "code",
   "execution_count": 19,
   "metadata": {},
   "outputs": [
    {
     "name": "stdout",
     "output_type": "stream",
     "text": [
      "Index(['created_at', 'tweet_id', 'author_id', 'content', 'retweet_count',\n",
      "       'reply_count', 'like_count', 'quote_count', 'punteggio_totale',\n",
      "       'num_interest_hashtags', 'polarity', 'subjectivity', 'Sentiment',\n",
      "       'name', 'username', 'description', 'collection', 'cluster',\n",
      "       'opinion_leader'],\n",
      "      dtype='object')\n"
     ]
    }
   ],
   "source": [
    "print(merge_neg_9032.columns)"
   ]
  },
  {
   "cell_type": "code",
   "execution_count": 16,
   "metadata": {},
   "outputs": [
    {
     "ename": "ValueError",
     "evalue": "Could not interpret value `opinion_leader` for `hue`. An entry with this name does not appear in `data`.",
     "output_type": "error",
     "traceback": [
      "\u001b[0;31m---------------------------------------------------------------------------\u001b[0m",
      "\u001b[0;31mValueError\u001b[0m                                Traceback (most recent call last)",
      "Cell \u001b[0;32mIn[16], line 3\u001b[0m\n\u001b[1;32m      1\u001b[0m \u001b[38;5;66;03m# Grafico dei cluster\u001b[39;00m\n\u001b[1;32m      2\u001b[0m plt\u001b[38;5;241m.\u001b[39mfigure(figsize\u001b[38;5;241m=\u001b[39m(\u001b[38;5;241m12\u001b[39m, \u001b[38;5;241m8\u001b[39m))\n\u001b[0;32m----> 3\u001b[0m \u001b[43msns\u001b[49m\u001b[38;5;241;43m.\u001b[39;49m\u001b[43mscatterplot\u001b[49m\u001b[43m(\u001b[49m\n\u001b[1;32m      4\u001b[0m \u001b[43m    \u001b[49m\u001b[43mdata\u001b[49m\u001b[38;5;241;43m=\u001b[39;49m\u001b[43mtweets_picco_0_neg_tid_9032\u001b[49m\u001b[43m,\u001b[49m\n\u001b[1;32m      5\u001b[0m \u001b[43m    \u001b[49m\u001b[43mx\u001b[49m\u001b[38;5;241;43m=\u001b[39;49m\u001b[38;5;124;43m'\u001b[39;49m\u001b[38;5;124;43mretweet_count\u001b[39;49m\u001b[38;5;124;43m'\u001b[39;49m\u001b[43m,\u001b[49m\n\u001b[1;32m      6\u001b[0m \u001b[43m    \u001b[49m\u001b[43my\u001b[49m\u001b[38;5;241;43m=\u001b[39;49m\u001b[38;5;124;43m'\u001b[39;49m\u001b[38;5;124;43mlike_count\u001b[39;49m\u001b[38;5;124;43m'\u001b[39;49m\u001b[43m,\u001b[49m\n\u001b[1;32m      7\u001b[0m \u001b[43m    \u001b[49m\u001b[43mhue\u001b[49m\u001b[38;5;241;43m=\u001b[39;49m\u001b[38;5;124;43m'\u001b[39;49m\u001b[38;5;124;43mopinion_leader\u001b[39;49m\u001b[38;5;124;43m'\u001b[39;49m\u001b[43m,\u001b[49m\n\u001b[1;32m      8\u001b[0m \u001b[43m    \u001b[49m\u001b[43mpalette\u001b[49m\u001b[38;5;241;43m=\u001b[39;49m\u001b[38;5;124;43m'\u001b[39;49m\u001b[38;5;124;43mSet1\u001b[39;49m\u001b[38;5;124;43m'\u001b[39;49m\u001b[43m,\u001b[49m\n\u001b[1;32m      9\u001b[0m \u001b[43m    \u001b[49m\u001b[43ms\u001b[49m\u001b[38;5;241;43m=\u001b[39;49m\u001b[38;5;241;43m100\u001b[39;49m\u001b[43m,\u001b[49m\n\u001b[1;32m     10\u001b[0m \u001b[43m    \u001b[49m\u001b[43malpha\u001b[49m\u001b[38;5;241;43m=\u001b[39;49m\u001b[38;5;241;43m0.6\u001b[39;49m\u001b[43m,\u001b[49m\n\u001b[1;32m     11\u001b[0m \u001b[43m    \u001b[49m\u001b[43medgecolor\u001b[49m\u001b[38;5;241;43m=\u001b[39;49m\u001b[38;5;124;43m'\u001b[39;49m\u001b[38;5;124;43mblack\u001b[39;49m\u001b[38;5;124;43m'\u001b[39;49m\u001b[43m  \u001b[49m\u001b[38;5;66;43;03m# Aggiungiamo bordi neri ai punti\u001b[39;49;00m\n\u001b[1;32m     12\u001b[0m \u001b[43m)\u001b[49m\n\u001b[1;32m     14\u001b[0m plt\u001b[38;5;241m.\u001b[39mxlabel(\u001b[38;5;124m'\u001b[39m\u001b[38;5;124mNumero di Retweet\u001b[39m\u001b[38;5;124m'\u001b[39m)\n\u001b[1;32m     15\u001b[0m plt\u001b[38;5;241m.\u001b[39mylabel(\u001b[38;5;124m'\u001b[39m\u001b[38;5;124mNumero di Like\u001b[39m\u001b[38;5;124m'\u001b[39m)\n",
      "File \u001b[0;32m/Library/Frameworks/Python.framework/Versions/3.12/lib/python3.12/site-packages/seaborn/relational.py:615\u001b[0m, in \u001b[0;36mscatterplot\u001b[0;34m(data, x, y, hue, size, style, palette, hue_order, hue_norm, sizes, size_order, size_norm, markers, style_order, legend, ax, **kwargs)\u001b[0m\n\u001b[1;32m    606\u001b[0m \u001b[38;5;28;01mdef\u001b[39;00m \u001b[38;5;21mscatterplot\u001b[39m(\n\u001b[1;32m    607\u001b[0m     data\u001b[38;5;241m=\u001b[39m\u001b[38;5;28;01mNone\u001b[39;00m, \u001b[38;5;241m*\u001b[39m,\n\u001b[1;32m    608\u001b[0m     x\u001b[38;5;241m=\u001b[39m\u001b[38;5;28;01mNone\u001b[39;00m, y\u001b[38;5;241m=\u001b[39m\u001b[38;5;28;01mNone\u001b[39;00m, hue\u001b[38;5;241m=\u001b[39m\u001b[38;5;28;01mNone\u001b[39;00m, size\u001b[38;5;241m=\u001b[39m\u001b[38;5;28;01mNone\u001b[39;00m, style\u001b[38;5;241m=\u001b[39m\u001b[38;5;28;01mNone\u001b[39;00m,\n\u001b[0;32m   (...)\u001b[0m\n\u001b[1;32m    612\u001b[0m     \u001b[38;5;241m*\u001b[39m\u001b[38;5;241m*\u001b[39mkwargs\n\u001b[1;32m    613\u001b[0m ):\n\u001b[0;32m--> 615\u001b[0m     p \u001b[38;5;241m=\u001b[39m \u001b[43m_ScatterPlotter\u001b[49m\u001b[43m(\u001b[49m\n\u001b[1;32m    616\u001b[0m \u001b[43m        \u001b[49m\u001b[43mdata\u001b[49m\u001b[38;5;241;43m=\u001b[39;49m\u001b[43mdata\u001b[49m\u001b[43m,\u001b[49m\n\u001b[1;32m    617\u001b[0m \u001b[43m        \u001b[49m\u001b[43mvariables\u001b[49m\u001b[38;5;241;43m=\u001b[39;49m\u001b[38;5;28;43mdict\u001b[39;49m\u001b[43m(\u001b[49m\u001b[43mx\u001b[49m\u001b[38;5;241;43m=\u001b[39;49m\u001b[43mx\u001b[49m\u001b[43m,\u001b[49m\u001b[43m \u001b[49m\u001b[43my\u001b[49m\u001b[38;5;241;43m=\u001b[39;49m\u001b[43my\u001b[49m\u001b[43m,\u001b[49m\u001b[43m \u001b[49m\u001b[43mhue\u001b[49m\u001b[38;5;241;43m=\u001b[39;49m\u001b[43mhue\u001b[49m\u001b[43m,\u001b[49m\u001b[43m \u001b[49m\u001b[43msize\u001b[49m\u001b[38;5;241;43m=\u001b[39;49m\u001b[43msize\u001b[49m\u001b[43m,\u001b[49m\u001b[43m \u001b[49m\u001b[43mstyle\u001b[49m\u001b[38;5;241;43m=\u001b[39;49m\u001b[43mstyle\u001b[49m\u001b[43m)\u001b[49m\u001b[43m,\u001b[49m\n\u001b[1;32m    618\u001b[0m \u001b[43m        \u001b[49m\u001b[43mlegend\u001b[49m\u001b[38;5;241;43m=\u001b[39;49m\u001b[43mlegend\u001b[49m\n\u001b[1;32m    619\u001b[0m \u001b[43m    \u001b[49m\u001b[43m)\u001b[49m\n\u001b[1;32m    621\u001b[0m     p\u001b[38;5;241m.\u001b[39mmap_hue(palette\u001b[38;5;241m=\u001b[39mpalette, order\u001b[38;5;241m=\u001b[39mhue_order, norm\u001b[38;5;241m=\u001b[39mhue_norm)\n\u001b[1;32m    622\u001b[0m     p\u001b[38;5;241m.\u001b[39mmap_size(sizes\u001b[38;5;241m=\u001b[39msizes, order\u001b[38;5;241m=\u001b[39msize_order, norm\u001b[38;5;241m=\u001b[39msize_norm)\n",
      "File \u001b[0;32m/Library/Frameworks/Python.framework/Versions/3.12/lib/python3.12/site-packages/seaborn/relational.py:396\u001b[0m, in \u001b[0;36m_ScatterPlotter.__init__\u001b[0;34m(self, data, variables, legend)\u001b[0m\n\u001b[1;32m    387\u001b[0m \u001b[38;5;28;01mdef\u001b[39;00m \u001b[38;5;21m__init__\u001b[39m(\u001b[38;5;28mself\u001b[39m, \u001b[38;5;241m*\u001b[39m, data\u001b[38;5;241m=\u001b[39m\u001b[38;5;28;01mNone\u001b[39;00m, variables\u001b[38;5;241m=\u001b[39m{}, legend\u001b[38;5;241m=\u001b[39m\u001b[38;5;28;01mNone\u001b[39;00m):\n\u001b[1;32m    388\u001b[0m \n\u001b[1;32m    389\u001b[0m     \u001b[38;5;66;03m# TODO this is messy, we want the mapping to be agnostic about\u001b[39;00m\n\u001b[1;32m    390\u001b[0m     \u001b[38;5;66;03m# the kind of plot to draw, but for the time being we need to set\u001b[39;00m\n\u001b[1;32m    391\u001b[0m     \u001b[38;5;66;03m# this information so the SizeMapping can use it\u001b[39;00m\n\u001b[1;32m    392\u001b[0m     \u001b[38;5;28mself\u001b[39m\u001b[38;5;241m.\u001b[39m_default_size_range \u001b[38;5;241m=\u001b[39m (\n\u001b[1;32m    393\u001b[0m         np\u001b[38;5;241m.\u001b[39mr_[\u001b[38;5;241m.5\u001b[39m, \u001b[38;5;241m2\u001b[39m] \u001b[38;5;241m*\u001b[39m np\u001b[38;5;241m.\u001b[39msquare(mpl\u001b[38;5;241m.\u001b[39mrcParams[\u001b[38;5;124m\"\u001b[39m\u001b[38;5;124mlines.markersize\u001b[39m\u001b[38;5;124m\"\u001b[39m])\n\u001b[1;32m    394\u001b[0m     )\n\u001b[0;32m--> 396\u001b[0m     \u001b[38;5;28;43msuper\u001b[39;49m\u001b[43m(\u001b[49m\u001b[43m)\u001b[49m\u001b[38;5;241;43m.\u001b[39;49m\u001b[38;5;21;43m__init__\u001b[39;49m\u001b[43m(\u001b[49m\u001b[43mdata\u001b[49m\u001b[38;5;241;43m=\u001b[39;49m\u001b[43mdata\u001b[49m\u001b[43m,\u001b[49m\u001b[43m \u001b[49m\u001b[43mvariables\u001b[49m\u001b[38;5;241;43m=\u001b[39;49m\u001b[43mvariables\u001b[49m\u001b[43m)\u001b[49m\n\u001b[1;32m    398\u001b[0m     \u001b[38;5;28mself\u001b[39m\u001b[38;5;241m.\u001b[39mlegend \u001b[38;5;241m=\u001b[39m legend\n",
      "File \u001b[0;32m/Library/Frameworks/Python.framework/Versions/3.12/lib/python3.12/site-packages/seaborn/_base.py:634\u001b[0m, in \u001b[0;36mVectorPlotter.__init__\u001b[0;34m(self, data, variables)\u001b[0m\n\u001b[1;32m    629\u001b[0m \u001b[38;5;66;03m# var_ordered is relevant only for categorical axis variables, and may\u001b[39;00m\n\u001b[1;32m    630\u001b[0m \u001b[38;5;66;03m# be better handled by an internal axis information object that tracks\u001b[39;00m\n\u001b[1;32m    631\u001b[0m \u001b[38;5;66;03m# such information and is set up by the scale_* methods. The analogous\u001b[39;00m\n\u001b[1;32m    632\u001b[0m \u001b[38;5;66;03m# information for numeric axes would be information about log scales.\u001b[39;00m\n\u001b[1;32m    633\u001b[0m \u001b[38;5;28mself\u001b[39m\u001b[38;5;241m.\u001b[39m_var_ordered \u001b[38;5;241m=\u001b[39m {\u001b[38;5;124m\"\u001b[39m\u001b[38;5;124mx\u001b[39m\u001b[38;5;124m\"\u001b[39m: \u001b[38;5;28;01mFalse\u001b[39;00m, \u001b[38;5;124m\"\u001b[39m\u001b[38;5;124my\u001b[39m\u001b[38;5;124m\"\u001b[39m: \u001b[38;5;28;01mFalse\u001b[39;00m}  \u001b[38;5;66;03m# alt., used DefaultDict\u001b[39;00m\n\u001b[0;32m--> 634\u001b[0m \u001b[38;5;28;43mself\u001b[39;49m\u001b[38;5;241;43m.\u001b[39;49m\u001b[43massign_variables\u001b[49m\u001b[43m(\u001b[49m\u001b[43mdata\u001b[49m\u001b[43m,\u001b[49m\u001b[43m \u001b[49m\u001b[43mvariables\u001b[49m\u001b[43m)\u001b[49m\n\u001b[1;32m    636\u001b[0m \u001b[38;5;66;03m# TODO Lots of tests assume that these are called to initialize the\u001b[39;00m\n\u001b[1;32m    637\u001b[0m \u001b[38;5;66;03m# mappings to default values on class initialization. I'd prefer to\u001b[39;00m\n\u001b[1;32m    638\u001b[0m \u001b[38;5;66;03m# move away from that and only have a mapping when explicitly called.\u001b[39;00m\n\u001b[1;32m    639\u001b[0m \u001b[38;5;28;01mfor\u001b[39;00m var \u001b[38;5;129;01min\u001b[39;00m [\u001b[38;5;124m\"\u001b[39m\u001b[38;5;124mhue\u001b[39m\u001b[38;5;124m\"\u001b[39m, \u001b[38;5;124m\"\u001b[39m\u001b[38;5;124msize\u001b[39m\u001b[38;5;124m\"\u001b[39m, \u001b[38;5;124m\"\u001b[39m\u001b[38;5;124mstyle\u001b[39m\u001b[38;5;124m\"\u001b[39m]:\n",
      "File \u001b[0;32m/Library/Frameworks/Python.framework/Versions/3.12/lib/python3.12/site-packages/seaborn/_base.py:679\u001b[0m, in \u001b[0;36mVectorPlotter.assign_variables\u001b[0;34m(self, data, variables)\u001b[0m\n\u001b[1;32m    674\u001b[0m \u001b[38;5;28;01melse\u001b[39;00m:\n\u001b[1;32m    675\u001b[0m     \u001b[38;5;66;03m# When dealing with long-form input, use the newer PlotData\u001b[39;00m\n\u001b[1;32m    676\u001b[0m     \u001b[38;5;66;03m# object (internal but introduced for the objects interface)\u001b[39;00m\n\u001b[1;32m    677\u001b[0m     \u001b[38;5;66;03m# to centralize / standardize data consumption logic.\u001b[39;00m\n\u001b[1;32m    678\u001b[0m     \u001b[38;5;28mself\u001b[39m\u001b[38;5;241m.\u001b[39minput_format \u001b[38;5;241m=\u001b[39m \u001b[38;5;124m\"\u001b[39m\u001b[38;5;124mlong\u001b[39m\u001b[38;5;124m\"\u001b[39m\n\u001b[0;32m--> 679\u001b[0m     plot_data \u001b[38;5;241m=\u001b[39m \u001b[43mPlotData\u001b[49m\u001b[43m(\u001b[49m\u001b[43mdata\u001b[49m\u001b[43m,\u001b[49m\u001b[43m \u001b[49m\u001b[43mvariables\u001b[49m\u001b[43m)\u001b[49m\n\u001b[1;32m    680\u001b[0m     frame \u001b[38;5;241m=\u001b[39m plot_data\u001b[38;5;241m.\u001b[39mframe\n\u001b[1;32m    681\u001b[0m     names \u001b[38;5;241m=\u001b[39m plot_data\u001b[38;5;241m.\u001b[39mnames\n",
      "File \u001b[0;32m/Library/Frameworks/Python.framework/Versions/3.12/lib/python3.12/site-packages/seaborn/_core/data.py:58\u001b[0m, in \u001b[0;36mPlotData.__init__\u001b[0;34m(self, data, variables)\u001b[0m\n\u001b[1;32m     51\u001b[0m \u001b[38;5;28;01mdef\u001b[39;00m \u001b[38;5;21m__init__\u001b[39m(\n\u001b[1;32m     52\u001b[0m     \u001b[38;5;28mself\u001b[39m,\n\u001b[1;32m     53\u001b[0m     data: DataSource,\n\u001b[1;32m     54\u001b[0m     variables: \u001b[38;5;28mdict\u001b[39m[\u001b[38;5;28mstr\u001b[39m, VariableSpec],\n\u001b[1;32m     55\u001b[0m ):\n\u001b[1;32m     57\u001b[0m     data \u001b[38;5;241m=\u001b[39m handle_data_source(data)\n\u001b[0;32m---> 58\u001b[0m     frame, names, ids \u001b[38;5;241m=\u001b[39m \u001b[38;5;28;43mself\u001b[39;49m\u001b[38;5;241;43m.\u001b[39;49m\u001b[43m_assign_variables\u001b[49m\u001b[43m(\u001b[49m\u001b[43mdata\u001b[49m\u001b[43m,\u001b[49m\u001b[43m \u001b[49m\u001b[43mvariables\u001b[49m\u001b[43m)\u001b[49m\n\u001b[1;32m     60\u001b[0m     \u001b[38;5;28mself\u001b[39m\u001b[38;5;241m.\u001b[39mframe \u001b[38;5;241m=\u001b[39m frame\n\u001b[1;32m     61\u001b[0m     \u001b[38;5;28mself\u001b[39m\u001b[38;5;241m.\u001b[39mnames \u001b[38;5;241m=\u001b[39m names\n",
      "File \u001b[0;32m/Library/Frameworks/Python.framework/Versions/3.12/lib/python3.12/site-packages/seaborn/_core/data.py:232\u001b[0m, in \u001b[0;36mPlotData._assign_variables\u001b[0;34m(self, data, variables)\u001b[0m\n\u001b[1;32m    230\u001b[0m     \u001b[38;5;28;01melse\u001b[39;00m:\n\u001b[1;32m    231\u001b[0m         err \u001b[38;5;241m+\u001b[39m\u001b[38;5;241m=\u001b[39m \u001b[38;5;124m\"\u001b[39m\u001b[38;5;124mAn entry with this name does not appear in `data`.\u001b[39m\u001b[38;5;124m\"\u001b[39m\n\u001b[0;32m--> 232\u001b[0m     \u001b[38;5;28;01mraise\u001b[39;00m \u001b[38;5;167;01mValueError\u001b[39;00m(err)\n\u001b[1;32m    234\u001b[0m \u001b[38;5;28;01melse\u001b[39;00m:\n\u001b[1;32m    235\u001b[0m \n\u001b[1;32m    236\u001b[0m     \u001b[38;5;66;03m# Otherwise, assume the value somehow represents data\u001b[39;00m\n\u001b[1;32m    237\u001b[0m \n\u001b[1;32m    238\u001b[0m     \u001b[38;5;66;03m# Ignore empty data structures\u001b[39;00m\n\u001b[1;32m    239\u001b[0m     \u001b[38;5;28;01mif\u001b[39;00m \u001b[38;5;28misinstance\u001b[39m(val, Sized) \u001b[38;5;129;01mand\u001b[39;00m \u001b[38;5;28mlen\u001b[39m(val) \u001b[38;5;241m==\u001b[39m \u001b[38;5;241m0\u001b[39m:\n",
      "\u001b[0;31mValueError\u001b[0m: Could not interpret value `opinion_leader` for `hue`. An entry with this name does not appear in `data`."
     ]
    },
    {
     "data": {
      "text/plain": [
       "<Figure size 1200x800 with 0 Axes>"
      ]
     },
     "metadata": {},
     "output_type": "display_data"
    }
   ],
   "source": [
    "# Grafico dei cluster\n",
    "plt.figure(figsize=(12, 8))\n",
    "sns.scatterplot(\n",
    "    data=tweets_picco_0_neg_tid_9032,\n",
    "    x='retweet_count',\n",
    "    y='like_count',\n",
    "    hue='opinion_leader',\n",
    "    palette='Set1',\n",
    "    s=100,\n",
    "    alpha=0.6,\n",
    "    edgecolor='black'  # Aggiungiamo bordi neri ai punti\n",
    ")\n",
    "\n",
    "plt.xlabel('Numero di Retweet')\n",
    "plt.ylabel('Numero di Like')\n",
    "plt.title('Clustering K-means degli opinion leader')\n",
    "plt.legend(title='Categorie di opinion leader', bbox_to_anchor=(1.05, 1), loc='upper left')\n",
    "plt.grid(True)\n",
    "plt.tight_layout()  # Migliora la disposizione degli elementi nel grafico\n",
    "plt.show()"
   ]
  },
  {
   "cell_type": "markdown",
   "metadata": {},
   "source": [
    "# Token positivo 6563"
   ]
  },
  {
   "cell_type": "markdown",
   "metadata": {},
   "source": [
    "### GRAFO DELLA CLUSTERIZZAZIONE DELLA KMEANS (3) per token 6563"
   ]
  },
  {
   "cell_type": "code",
   "execution_count": null,
   "metadata": {},
   "outputs": [],
   "source": [
    "# Seleziona le colonne rilevanti per il clustering\n",
    "X = merge_neg_6563[['retweet_count', 'like_count', 'quote_count', 'reply_count']]\n",
    "\n",
    "# Calcola i punteggi Silhouette per k che varia da 2 a 4\n",
    "silhouette_scores = []\n",
    "for k in range(2, 5):\n",
    "    kmeans = KMeans(n_clusters=k, random_state=0)\n",
    "    cluster_labels = kmeans.fit_predict(X)\n",
    "    silhouette_avg = silhouette_score(X, cluster_labels)\n",
    "    silhouette_scores.append(silhouette_avg)\n",
    "    print(f\"For n_clusters = {k}, the average silhouette_score is : {silhouette_avg}\")\n",
    "\n",
    "# Trova il valore di k che massimizza il punteggio di Silhouette\n",
    "best_k = silhouette_scores.index(max(silhouette_scores)) + 2  # Indice del massimo + 2 per ottenere il valore reale di k\n",
    "\n",
    "# Applica il metodo k-means con il miglior valore di k\n",
    "kmeans = KMeans(n_clusters=best_k, random_state=0)\n",
    "merge_neg_6563['cluster'] = kmeans.fit_predict(X)\n",
    "\n",
    "# Mappa i cluster a etichette personalizzate\n",
    "cluster_mapping = {0: 'Weak opinion leader', 1: 'Strong opinion leader'}  # Personalizza le etichette come desiderato\n",
    "merge_neg_6563['opinion_leader'] = merge_neg_6563['cluster'].map(cluster_mapping)\n",
    "\n",
    "#stampa opinion leader\n",
    "print(\"\\n********************************************************************\\n\")\n",
    "print(\"Tweet nella classe 'Strong opinion leader':\")\n",
    "print(merge_neg_6563[merge_neg_6563['opinion_leader'] == 'Strong opinion leader'][['retweet_count', 'like_count', 'quote_count', 'reply_count', 'author_id', 'tweet_id', 'content', 'description', 'Sentiment', 'collection']])\n",
    "print()"
   ]
  },
  {
   "cell_type": "markdown",
   "metadata": {},
   "source": [
    "##### GRAFICO K-MEANS per token 6563"
   ]
  },
  {
   "cell_type": "code",
   "execution_count": null,
   "metadata": {},
   "outputs": [],
   "source": [
    "# Grafico dei cluster\n",
    "plt.figure(figsize=(12, 8))\n",
    "sns.scatterplot(\n",
    "    data=tweets_picco_0_neg_tid_6563,\n",
    "    x='retweet_count',\n",
    "    y='like_count',\n",
    "    hue='opinion_leader',\n",
    "    palette='Set1',\n",
    "    s=100,\n",
    "    alpha=0.6,\n",
    "    edgecolor='black'  # Aggiungiamo bordi neri ai punti\n",
    ")\n",
    "\n",
    "plt.xlabel('Numero di Retweet')\n",
    "plt.ylabel('Numero di Like')\n",
    "plt.title('Clustering K-means degli opinion leader')\n",
    "plt.legend(title='Categorie di opinion leader', bbox_to_anchor=(1.05, 1), loc='upper left')\n",
    "plt.grid(True)\n",
    "plt.tight_layout()  # Migliora la disposizione degli elementi nel grafico\n",
    "plt.show()"
   ]
  },
  {
   "cell_type": "markdown",
   "metadata": {},
   "source": [
    "# Token positivo 4037"
   ]
  },
  {
   "cell_type": "markdown",
   "metadata": {},
   "source": [
    "### GRAFO DELLA CLUSTERIZZAZIONE DELLA KMEANS (3) per token 4037"
   ]
  },
  {
   "cell_type": "code",
   "execution_count": null,
   "metadata": {},
   "outputs": [],
   "source": [
    "# Seleziona le colonne rilevanti per il clustering\n",
    "X = merge_neg_4037[['retweet_count', 'like_count', 'quote_count', 'reply_count']]\n",
    "\n",
    "# Calcola i punteggi Silhouette per k che varia da 2 a 4\n",
    "silhouette_scores = []\n",
    "for k in range(2, 5):\n",
    "    kmeans = KMeans(n_clusters=k, random_state=0)\n",
    "    cluster_labels = kmeans.fit_predict(X)\n",
    "    silhouette_avg = silhouette_score(X, cluster_labels)\n",
    "    silhouette_scores.append(silhouette_avg)\n",
    "    print(f\"For n_clusters = {k}, the average silhouette_score is : {silhouette_avg}\")\n",
    "\n",
    "# Trova il valore di k che massimizza il punteggio di Silhouette\n",
    "best_k = silhouette_scores.index(max(silhouette_scores)) + 2  # Indice del massimo + 2 per ottenere il valore reale di k\n",
    "\n",
    "# Applica il metodo k-means con il miglior valore di k\n",
    "kmeans = KMeans(n_clusters=best_k, random_state=0)\n",
    "merge_neg_4037['cluster'] = kmeans.fit_predict(X)\n",
    "\n",
    "# Mappa i cluster a etichette personalizzate\n",
    "cluster_mapping = {0: 'Weak opinion leader', 1: 'Strong opinion leader'}  # Personalizza le etichette come desiderato\n",
    "merge_neg_4037['opinion_leader'] = merge_neg_4037['cluster'].map(cluster_mapping)\n",
    "\n",
    "#stampa opinion leader\n",
    "print(\"\\n********************************************************************\\n\")\n",
    "print(\"Tweet nella classe 'Strong opinion leader':\")\n",
    "print(merge_neg_4037[merge_neg_4037['opinion_leader'] == 'Strong opinion leader'][['retweet_count', 'like_count', 'quote_count', 'reply_count', 'author_id', 'tweet_id', 'content', 'description', 'Sentiment', 'collection']])\n",
    "print()"
   ]
  },
  {
   "cell_type": "markdown",
   "metadata": {},
   "source": [
    "### GRAFICO K-MEANS per token 4037"
   ]
  },
  {
   "cell_type": "code",
   "execution_count": null,
   "metadata": {},
   "outputs": [],
   "source": [
    "# Grafico dei cluster\n",
    "plt.figure(figsize=(12, 8))\n",
    "sns.scatterplot(\n",
    "    data=tweets_picco_0_neg_tid_4037,\n",
    "    x='retweet_count',\n",
    "    y='like_count',\n",
    "    hue='opinion_leader',\n",
    "    palette='Set1',\n",
    "    s=100,\n",
    "    alpha=0.6,\n",
    "    edgecolor='black'  # Aggiungiamo bordi neri ai punti\n",
    ")\n",
    "\n",
    "plt.xlabel('Numero di Retweet')\n",
    "plt.ylabel('Numero di Like')\n",
    "plt.title('Clustering K-means degli opinion leader')\n",
    "plt.legend(title='Categorie di opinion leader', bbox_to_anchor=(1.05, 1), loc='upper left')\n",
    "plt.grid(True)\n",
    "plt.tight_layout()  # Migliora la disposizione degli elementi nel grafico\n",
    "plt.show()"
   ]
  },
  {
   "cell_type": "markdown",
   "metadata": {},
   "source": [
    "# Token positivo 12247"
   ]
  },
  {
   "cell_type": "markdown",
   "metadata": {},
   "source": [
    "### GRAFO DELLA CLUSTERIZZAZIONE DELLA KMEANS (3) per token 12247"
   ]
  },
  {
   "cell_type": "code",
   "execution_count": null,
   "metadata": {},
   "outputs": [],
   "source": [
    "# Seleziona le colonne rilevanti per il clustering\n",
    "X = merge_neg_12247[['retweet_count', 'like_count', 'quote_count', 'reply_count']]\n",
    "\n",
    "# Calcola i punteggi Silhouette per k che varia da 2 a 4\n",
    "silhouette_scores = []\n",
    "for k in range(2, 5):\n",
    "    kmeans = KMeans(n_clusters=k, random_state=0)\n",
    "    cluster_labels = kmeans.fit_predict(X)\n",
    "    silhouette_avg = silhouette_score(X, cluster_labels)\n",
    "    silhouette_scores.append(silhouette_avg)\n",
    "    print(f\"For n_clusters = {k}, the average silhouette_score is : {silhouette_avg}\")\n",
    "\n",
    "# Trova il valore di k che massimizza il punteggio di Silhouette\n",
    "best_k = silhouette_scores.index(max(silhouette_scores)) + 2  # Indice del massimo + 2 per ottenere il valore reale di k\n",
    "\n",
    "# Applica il metodo k-means con il miglior valore di k\n",
    "kmeans = KMeans(n_clusters=best_k, random_state=0)\n",
    "merge_neg_12247['cluster'] = kmeans.fit_predict(X)\n",
    "\n",
    "# Mappa i cluster a etichette personalizzate\n",
    "cluster_mapping = {0: 'Weak opinion leader', 1: 'Strong opinion leader'}  # Personalizza le etichette come desiderato\n",
    "merge_neg_12247['opinion_leader'] = merge_neg_12247['cluster'].map(cluster_mapping)\n",
    "\n",
    "#stampa opinion leader\n",
    "print(\"\\n********************************************************************\\n\")\n",
    "print(\"Tweet nella classe 'Strong opinion leader':\")\n",
    "print(merge_neg_12247[merge_neg_12247['opinion_leader'] == 'Strong opinion leader'][['retweet_count', 'like_count', 'quote_count', 'reply_count', 'author_id', 'tweet_id', 'content', 'description', 'Sentiment', 'collection']])\n",
    "print()"
   ]
  },
  {
   "cell_type": "markdown",
   "metadata": {},
   "source": [
    "### GRAFICO K-MEANS per token 12247"
   ]
  },
  {
   "cell_type": "code",
   "execution_count": null,
   "metadata": {},
   "outputs": [],
   "source": [
    "# Grafico dei cluster\n",
    "plt.figure(figsize=(12, 8))\n",
    "sns.scatterplot(\n",
    "    data=tweets_picco_0_neg_tid_12247,\n",
    "    x='retweet_count',\n",
    "    y='like_count',\n",
    "    hue='opinion_leader',\n",
    "    palette='Set1',\n",
    "    s=100,\n",
    "    alpha=0.6,\n",
    "    edgecolor='black'  # Aggiungiamo bordi neri ai punti\n",
    ")\n",
    "\n",
    "plt.xlabel('Numero di Retweet')\n",
    "plt.ylabel('Numero di Like')\n",
    "plt.title('Clustering K-means degli opinion leader')\n",
    "plt.legend(title='Categorie di opinion leader', bbox_to_anchor=(1.05, 1), loc='upper left')\n",
    "plt.grid(True)\n",
    "plt.tight_layout()  # Migliora la disposizione degli elementi nel grafico\n",
    "plt.show()"
   ]
  },
  {
   "cell_type": "markdown",
   "metadata": {},
   "source": [
    "# Token positivo 9728"
   ]
  },
  {
   "cell_type": "markdown",
   "metadata": {},
   "source": [
    "### GRAFO DELLA CLUSTERIZZAZIONE DELLA KMEANS (3) per token 9728"
   ]
  },
  {
   "cell_type": "code",
   "execution_count": null,
   "metadata": {},
   "outputs": [],
   "source": [
    "# Seleziona le colonne rilevanti per il clustering\n",
    "X = merge_neg_9728[['retweet_count', 'like_count', 'quote_count', 'reply_count']]\n",
    "\n",
    "# Calcola i punteggi Silhouette per k che varia da 2 a 4\n",
    "silhouette_scores = []\n",
    "for k in range(2, 5):\n",
    "    kmeans = KMeans(n_clusters=k, random_state=0)\n",
    "    cluster_labels = kmeans.fit_predict(X)\n",
    "    silhouette_avg = silhouette_score(X, cluster_labels)\n",
    "    silhouette_scores.append(silhouette_avg)\n",
    "    print(f\"For n_clusters = {k}, the average silhouette_score is : {silhouette_avg}\")\n",
    "\n",
    "# Trova il valore di k che massimizza il punteggio di Silhouette\n",
    "best_k = silhouette_scores.index(max(silhouette_scores)) + 2  # Indice del massimo + 2 per ottenere il valore reale di k\n",
    "\n",
    "# Applica il metodo k-means con il miglior valore di k\n",
    "kmeans = KMeans(n_clusters=best_k, random_state=0)\n",
    "merge_neg_9728['cluster'] = kmeans.fit_predict(X)\n",
    "\n",
    "# Mappa i cluster a etichette personalizzate\n",
    "cluster_mapping = {0: 'Weak opinion leader', 1: 'Strong opinion leader'}  # Personalizza le etichette come desiderato\n",
    "merge_neg_9728['opinion_leader'] = merge_neg_9728['cluster'].map(cluster_mapping)\n",
    "\n",
    "#stampa opinion leader\n",
    "print(\"\\n********************************************************************\\n\")\n",
    "print(\"Tweet nella classe 'Strong opinion leader':\")\n",
    "print(merge_neg_9728[merge_neg_9728['opinion_leader'] == 'Strong opinion leader'][['retweet_count', 'like_count', 'quote_count', 'reply_count', 'author_id', 'tweet_id', 'content', 'description', 'Sentiment', 'collection']])\n",
    "print()"
   ]
  },
  {
   "cell_type": "markdown",
   "metadata": {},
   "source": [
    "### GRAFICO K-MEANS per token 9728"
   ]
  },
  {
   "cell_type": "code",
   "execution_count": null,
   "metadata": {},
   "outputs": [],
   "source": [
    "# Grafico dei cluster\n",
    "plt.figure(figsize=(12, 8))\n",
    "sns.scatterplot(\n",
    "    data=tweets_picco_0_neg_tid_9728,\n",
    "    x='retweet_count',\n",
    "    y='like_count',\n",
    "    hue='opinion_leader',\n",
    "    palette='Set1',\n",
    "    s=100,\n",
    "    alpha=0.6,\n",
    "    edgecolor='black'  # Aggiungiamo bordi neri ai punti\n",
    ")\n",
    "\n",
    "plt.xlabel('Numero di Retweet')\n",
    "plt.ylabel('Numero di Like')\n",
    "plt.title('Clustering K-means degli opinion leader')\n",
    "plt.legend(title='Categorie di opinion leader', bbox_to_anchor=(1.05, 1), loc='upper left')\n",
    "plt.grid(True)\n",
    "plt.tight_layout()  # Migliora la disposizione degli elementi nel grafico\n",
    "plt.show()"
   ]
  },
  {
   "cell_type": "markdown",
   "metadata": {},
   "source": [
    "# Token positivo 8890"
   ]
  },
  {
   "cell_type": "markdown",
   "metadata": {},
   "source": [
    "### GRAFO DELLA CLUSTERIZZAZIONE DELLA KMEANS (3) per token 8898"
   ]
  },
  {
   "cell_type": "code",
   "execution_count": null,
   "metadata": {},
   "outputs": [],
   "source": [
    "# Seleziona le colonne rilevanti per il clustering\n",
    "X = merge_neg_8898[['retweet_count', 'like_count', 'quote_count', 'reply_count']]\n",
    "\n",
    "# Calcola i punteggi Silhouette per k che varia da 2 a 4\n",
    "silhouette_scores = []\n",
    "for k in range(2, 5):\n",
    "    kmeans = KMeans(n_clusters=k, random_state=0)\n",
    "    cluster_labels = kmeans.fit_predict(X)\n",
    "    silhouette_avg = silhouette_score(X, cluster_labels)\n",
    "    silhouette_scores.append(silhouette_avg)\n",
    "    print(f\"For n_clusters = {k}, the average silhouette_score is : {silhouette_avg}\")\n",
    "\n",
    "# Trova il valore di k che massimizza il punteggio di Silhouette\n",
    "best_k = silhouette_scores.index(max(silhouette_scores)) + 2  # Indice del massimo + 2 per ottenere il valore reale di k\n",
    "\n",
    "# Applica il metodo k-means con il miglior valore di k\n",
    "kmeans = KMeans(n_clusters=best_k, random_state=0)\n",
    "merge_neg_8898['cluster'] = kmeans.fit_predict(X)\n",
    "\n",
    "# Mappa i cluster a etichette personalizzate\n",
    "cluster_mapping = {0: 'Weak opinion leader', 1: 'Strong opinion leader'}  # Personalizza le etichette come desiderato\n",
    "merge_neg_8898['opinion_leader'] = merge_neg_8898['cluster'].map(cluster_mapping)\n",
    "\n",
    "#stampa opinion leader\n",
    "print(\"\\n********************************************************************\\n\")\n",
    "print(\"Tweet nella classe 'Strong opinion leader':\")\n",
    "print(merge_neg_8898[merge_neg_8898['opinion_leader'] == 'Strong opinion leader'][['retweet_count', 'like_count', 'quote_count', 'reply_count', 'author_id', 'tweet_id', 'content', 'description', 'Sentiment', 'collection']])\n",
    "print()"
   ]
  },
  {
   "cell_type": "markdown",
   "metadata": {},
   "source": [
    "### GRAFICO K-MEANS per token 8898"
   ]
  },
  {
   "cell_type": "code",
   "execution_count": null,
   "metadata": {},
   "outputs": [],
   "source": [
    "# Grafico dei cluster\n",
    "plt.figure(figsize=(12, 8))\n",
    "sns.scatterplot(\n",
    "    data=tweets_picco_0_neg_tid_8898,\n",
    "    x='retweet_count',\n",
    "    y='like_count',\n",
    "    hue='opinion_leader',\n",
    "    palette='Set1',\n",
    "    s=100,\n",
    "    alpha=0.6,\n",
    "    edgecolor='black'  # Aggiungiamo bordi neri ai punti\n",
    ")\n",
    "\n",
    "plt.xlabel('Numero di Retweet')\n",
    "plt.ylabel('Numero di Like')\n",
    "plt.title('Clustering K-means degli opinion leader')\n",
    "plt.legend(title='Categorie di opinion leader', bbox_to_anchor=(1.05, 1), loc='upper left')\n",
    "plt.grid(True)\n",
    "plt.tight_layout()  # Migliora la disposizione degli elementi nel grafico\n",
    "plt.show()"
   ]
  }
 ],
 "metadata": {
  "kernelspec": {
   "display_name": "Python 3",
   "language": "python",
   "name": "python3"
  },
  "language_info": {
   "codemirror_mode": {
    "name": "ipython",
    "version": 3
   },
   "file_extension": ".py",
   "mimetype": "text/x-python",
   "name": "python",
   "nbconvert_exporter": "python",
   "pygments_lexer": "ipython3",
   "version": "3.12.2"
  }
 },
 "nbformat": 4,
 "nbformat_minor": 2
}
