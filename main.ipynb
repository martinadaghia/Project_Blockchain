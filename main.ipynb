{
 "cells": [
  {
   "cell_type": "code",
   "execution_count": 2,
   "metadata": {},
   "outputs": [
    {
     "name": "stdout",
     "output_type": "stream",
     "text": [
      "Tweet più influenti:\n",
      "                    tweet_id  like_count  quote_count  reply_count  \\\n",
      "871365   1454653822849011713       42682         2219        13137   \n",
      "2218350  1484230264293318663      192137        10642        12575   \n",
      "1639231  1474743503393628164       11027          243        17238   \n",
      "765175   1459164143626424321       33156         5759         8598   \n",
      "2116372  1486482496883625984       20161         7196         7281   \n",
      "...                      ...         ...          ...          ...   \n",
      "2070201  1487274305624973317        1305           32         1173   \n",
      "3539470  1468247323436322824        1089          137         1313   \n",
      "4737085  1490742993841758215       12530           65          994   \n",
      "225084   1473715610886582278         925          649          704   \n",
      "2869758  1434911045231857665        2335            7           35   \n",
      "\n",
      "         retweet_count  punteggio_totale  \n",
      "871365           76411          5.882075  \n",
      "2218350          13270          5.514192  \n",
      "1639231           3075          3.212580  \n",
      "765175            5257          2.923923  \n",
      "2116372           2905          2.818013  \n",
      "...                ...               ...  \n",
      "2070201           1219          0.263481  \n",
      "3539470            111          0.263173  \n",
      "4737085            631          0.262458  \n",
      "225084             351          0.262144  \n",
      "2869758           6238          0.262099  \n",
      "\n",
      "[400 rows x 6 columns]\n"
     ]
    }
   ],
   "source": [
    "import pandas as pd\n",
    "from sklearn.preprocessing import MinMaxScaler\n",
    "\n",
    "# Carica il dataset dei tweet\n",
    "tweets_df = pd.read_csv(\"./datasets/twitter/twitter_tweets.csv\")\n",
    "\n",
    "# Definisci pesi per like, quote, reply e retweet\n",
    "peso_like = 1\n",
    "peso_reply = 2\n",
    "peso_retweet = 3\n",
    "peso_quote = 3\n",
    "\n",
    "\n",
    "# Normalizza i valori dei vari aspetti\n",
    "scaler = MinMaxScaler()\n",
    "tweet_features = scaler.fit_transform(tweets_df[['like_count', 'quote_count', 'reply_count', 'retweet_count']])\n",
    "\n",
    "# Calcola il punteggio totale per ciascun tweet\n",
    "tweets_df['punteggio_totale'] = (\n",
    "    tweet_features[:, 0] * peso_like + \n",
    "    tweet_features[:, 1] * peso_reply + \n",
    "    tweet_features[:, 2] * peso_retweet + \n",
    "    tweet_features[:, 3] * peso_quote \n",
    ")\n",
    "\n",
    "# Ordina il DataFrame in base al punteggio totale in ordine decrescente (più influenti)\n",
    "tweets_df_sorted_desc = tweets_df.sort_values(by='punteggio_totale', ascending=False)\n",
    "\n",
    "# Seleziona i primi n tweet più influenti\n",
    "n = 400\n",
    "top_tweets = tweets_df_sorted_desc.head(n)\n",
    "\n",
    "# Stampa i tweet più influenti\n",
    "print(\"Tweet più influenti:\")\n",
    "print(top_tweets[['tweet_id', 'like_count', 'quote_count', 'reply_count', 'retweet_count', 'punteggio_totale']])\n",
    "\n",
    "#print(top_tweets)\n"
   ]
  },
  {
   "cell_type": "code",
   "execution_count": 3,
   "metadata": {},
   "outputs": [
    {
     "name": "stdout",
     "output_type": "stream",
     "text": [
      "Sentiment Analysis dei tweet:\n",
      "                    tweet_id  \\\n",
      "0        1471266741087055872   \n",
      "1        1471262376796336128   \n",
      "2        1471262187633135617   \n",
      "3        1471261469278834688   \n",
      "4        1471261026050093059   \n",
      "...                      ...   \n",
      "4792259  1496333455000768517   \n",
      "4792260  1496332316079431680   \n",
      "4792261  1496326805380345857   \n",
      "4792262  1496309759972048896   \n",
      "4792263  1496295005874446344   \n",
      "\n",
      "                                                   content  sentiment_polarity  \n",
      "0            The Hashies are here. https://t.co/bkkspANbaH            0.000000  \n",
      "1        #HashMasks 12279 changed name to: \"CatinaBot\" ...            0.000000  \n",
      "2        Hashmask #8270 - “Unnamed” was purchased by ht...            0.133333  \n",
      "3        His name is Atom. Can we get him a fight?\\n- R...            0.200000  \n",
      "4        @mskDAO #NameYourHashmask \\nFree speech now an...            0.400000  \n",
      "...                                                    ...                 ...  \n",
      "4792259  @NftTrader @Animetas1 @TheHashmasks @coolcatsn...            0.325000  \n",
      "4792260  Salad🥗Swaps are one of the more popular trades...            0.550000  \n",
      "4792261  @CryptoGodJohn @metasaurs @TheHashmasks @Women...            0.575000  \n",
      "4792262  Hashmasks Looking to Expand into the Metaverse...            0.000000  \n",
      "4792263  @zenfrogalliance @candevsdosmtng this smell li...            0.300000  \n",
      "\n",
      "[4792264 rows x 3 columns]\n"
     ]
    }
   ],
   "source": [
    "from textblob import TextBlob\n",
    "\n",
    "# Funzione per l'analisi del sentiment\n",
    "def analyze_sentiment(text):\n",
    "    # Crea un oggetto TextBlob dal testo del tweet\n",
    "    blob = TextBlob(text)\n",
    "    # Restituisce la polarità del sentiment\n",
    "    return blob.sentiment.polarity\n",
    "\n",
    "# Applica la funzione di analisi del sentiment al contenuto dei tweet\n",
    "tweets_df['sentiment_polarity'] = tweets_df['content'].apply(analyze_sentiment)\n",
    "\n",
    "# Stampa i tweet con la polarità del sentiment\n",
    "print(\"Sentiment Analysis dei tweet:\")\n",
    "print(tweets_df[['tweet_id', 'content', 'sentiment_polarity']])"
   ]
  }
 ],
 "metadata": {
  "kernelspec": {
   "display_name": "Python 3",
   "language": "python",
   "name": "python3"
  },
  "language_info": {
   "codemirror_mode": {
    "name": "ipython",
    "version": 3
   },
   "file_extension": ".py",
   "mimetype": "text/x-python",
   "name": "python",
   "nbconvert_exporter": "python",
   "pygments_lexer": "ipython3",
   "version": "3.12.2"
  }
 },
 "nbformat": 4,
 "nbformat_minor": 2
}
